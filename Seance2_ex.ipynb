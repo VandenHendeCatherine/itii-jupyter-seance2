{
 "cells": [
  {
   "cell_type": "markdown",
   "metadata": {},
   "source": [
    "Ex1: Rectangle \n",
    "* Ecrire une classe Rectangle en langage Python, permettant de construire un rectangle dotée d’attributs longueur et largeur.\n",
    "\n",
    "* Créer une méthode Perimetre() permettant de calculer le périmètre du rectangle et une méthode Surface() permettant de calculer la surface du rectangle\n",
    "* Créer les getters et setters.\n",
    "* Créer une classe fille Parallelepipede héritant de la classe Rectangle et dotée en plus d’un attribut hauteur et d’une autre méthode Volume() permettant de calculer le volume du Parallélépipède."
   ]
  },
  {
   "cell_type": "code",
   "execution_count": 1,
   "metadata": {},
   "outputs": [],
   "source": [
    "class Rectangle :\n",
    "    \n",
    "    def __init__(self,rlargeur,rlongueur):\n",
    "        self.largeur=rlargeur\n",
    "        self.longueur=rlongueur\n",
    "        \n",
    "    def Perimetre(self):\n",
    "        return self.largeur*2+self.longueur*2\n",
    "    \n",
    "    def Surface(self):\n",
    "        return self.largeur*self.longueur\n",
    "    \n",
    "    def getLargeur(self):\n",
    "        return self.largeur\n",
    "        \n",
    "    def getLongueur(self):\n",
    "        return self.longueur\n",
    "    \n",
    "    def setLargeur(self,rlargeur):\n",
    "        self.largeur=rlargeur\n",
    "        \n",
    "    def setLongueur(self,rlongueur):\n",
    "        self.longueur=rlongueur\n",
    "        \n",
    "class Parallelepipede(Rectangle):\n",
    "    \n",
    "        def __init__(self,rhauteur):\n",
    "            self.hauteur=rhauteur\n",
    "        \n",
    "        def Volume(self):\n",
    "            return self.largeur*self.longueur*self.hauteur\n",
    "        \n",
    "rect=Rectangle(4,12)\n",
    "print(rect.getLargeur())\n",
    "print(rect.getLongueur())"
   ]
  },
  {
   "cell_type": "markdown",
   "metadata": {},
   "source": [
    "Ex2 : Vecteur\n",
    "Déﬁnir une classe Vecteur2D avec un constructeur fournissant les coordonnées par défaut d’un vecteur du plan (par exemple : x = 0 et y = 0).\n",
    "\n",
    "Enrichissez la classe Vecteur2D  en lui ajoutant une méthode d’affichage et une méthode de surcharge d’addition de deux vecteurs du plan."
   ]
  },
  {
   "cell_type": "code",
   "execution_count": 28,
   "metadata": {},
   "outputs": [
    {
     "ename": "TypeError",
     "evalue": "add() missing 1 required positional argument: 'second'",
     "output_type": "error",
     "traceback": [
      "\u001b[1;31m---------------------------------------------------------------------------\u001b[0m",
      "\u001b[1;31mTypeError\u001b[0m                                 Traceback (most recent call last)",
      "\u001b[1;32m<ipython-input-28-f7ef579f9af7>\u001b[0m in \u001b[0;36m<module>\u001b[1;34m()\u001b[0m\n\u001b[0;32m     13\u001b[0m \u001b[0mvect\u001b[0m\u001b[1;33m=\u001b[0m\u001b[0mVecteur2D\u001b[0m\u001b[1;33m\u001b[0m\u001b[0m\n\u001b[0;32m     14\u001b[0m \u001b[0mvecteur\u001b[0m\u001b[1;33m=\u001b[0m\u001b[0mVecteur2D\u001b[0m\u001b[1;33m\u001b[0m\u001b[0m\n\u001b[1;32m---> 15\u001b[1;33m \u001b[0mvect\u001b[0m\u001b[1;33m.\u001b[0m\u001b[0madd\u001b[0m\u001b[1;33m(\u001b[0m\u001b[0mvecteur\u001b[0m\u001b[1;33m)\u001b[0m\u001b[1;33m\u001b[0m\u001b[0m\n\u001b[0m\u001b[0;32m     16\u001b[0m \u001b[0mvect\u001b[0m\u001b[1;33m.\u001b[0m\u001b[0mAffichage\u001b[0m\u001b[1;33m(\u001b[0m\u001b[1;33m)\u001b[0m\u001b[1;33m\u001b[0m\u001b[0m\n",
      "\u001b[1;31mTypeError\u001b[0m: add() missing 1 required positional argument: 'second'"
     ]
    }
   ],
   "source": [
    "class Vecteur2D :\n",
    "    \n",
    "    def __init__(self):\n",
    "        self.x=0\n",
    "        self.y=0\n",
    "    \n",
    "    def Affichage(self):\n",
    "        print(\"Voici le vecteur : \" + self.x +\";\"+self.y)\n",
    "    \n",
    "    def add(self,second):\n",
    "        return Vecteur2D(self.x+second.x, self.y+second.y)\n",
    "    \n",
    "vect=Vecteur2D \n",
    "vecteur=Vecteur2D\n",
    "vect.add(vecteur)\n",
    "vect.Affichage()"
   ]
  },
  {
   "cell_type": "markdown",
   "metadata": {},
   "source": [
    "Ex3 : Pile et File\n",
    "\n",
    "Implanter des classes Pile et File utilisant les listes comme structure de données interne et respectant l’interface suivante"
   ]
  },
  {
   "cell_type": "code",
   "execution_count": 25,
   "metadata": {},
   "outputs": [
    {
     "name": "stdout",
     "output_type": "stream",
     "text": [
      "[36, 42, 74]\n",
      "[42, 74]\n",
      "[36, 42, 74]\n",
      "[36, 42]\n",
      "36 74\n"
     ]
    }
   ],
   "source": [
    "class Base(object):\n",
    "    def pop(self):\n",
    "        pass\n",
    "    def push(self, elt):\n",
    "        pass\n",
    "\n",
    "\n",
    "class Pile(Base) :\n",
    "    def __init__(self):\n",
    "        self.liste =[]\n",
    "        \n",
    "    def push(self,elt):\n",
    "        self.liste.append(elt)\n",
    "        \n",
    "    def pop(self):\n",
    "        a=self.liste[-1]\n",
    "        del self.liste[-1]\n",
    "        return a\n",
    "        \n",
    "\n",
    "class File(Base) :\n",
    "    def __init__(self):\n",
    "        self.liste = []\n",
    "    \n",
    "    def push(self,elt):\n",
    "        self.liste.append(elt)\n",
    "        \n",
    "    def pop(self):\n",
    "        a=self.liste[0]\n",
    "        self.liste= self.liste[1:]\n",
    "        return a  \n",
    "            \n",
    "        \n",
    "file=File()\n",
    "file.push(36)\n",
    "file.push(42)\n",
    "file.push(74)\n",
    "print(file.liste)\n",
    "a=file.pop()\n",
    "print(file.liste)\n",
    "\n",
    "\n",
    "pile=Pile()\n",
    "pile.push(36)\n",
    "pile.push(42)\n",
    "pile.push(74)\n",
    "print(pile.liste)\n",
    "b=pile.pop()\n",
    "print(pile.liste)\n",
    "print(a,b)"
   ]
  },
  {
   "cell_type": "markdown",
   "metadata": {},
   "source": [
    "Ex4: \n",
    "1. Objectifs : préparer le calcul de l’ensemble de Mandelbrot, en utilisant directement les nombres complexes\n",
    "\n",
    "Dans une classe **Mandelbrot**\n",
    "* Programmer une methode f(z,c)qui pour z et c, des nombres complexes donnés,renvoie z^2+c\n",
    "* Programme une methode iterer(c) qui pour un nombre complexe c donné, renvoie le nombre d’itérations qu’il a fallu pour que la suite(zn) s’échappe « à l’infini » ; si au bout d’un certain nombre d’itérations la suite ne s’échappe pas, la fonction renvoie 0\n",
    "\n",
    "* Programme une fonctionf(x,y,a,b) qui pour x,y,a,b, des nombres réels, calcule x′=x^2−y^2+a et y′=2x y+b et renvoie les deux nombres réels x′et y′.\n",
    "\n",
    "* Programme une fonctioniterer(a,b) qui pour un couple de réel(a,b) donné, renvoie le nombre d’itérations qu’il a fallu pour que la suite(xn,yn)s’échappe « à l’infini » ; si au bout d’un certain nombre d’itérations la suite ne s’échappe pas, la fonction renvoie 0.\n",
    "\n",
    "En utilisant matplotlib :\n",
    "* Programme une fonctionafficher_pixel(i,j,couleur)qui affiche un pixel coloré en position(i,j)\n",
    "* Programme une fonctionchoix_couleur(i)qui renvoie une couleur en fonction du nombrei(quicorrespondra au nombre d’itérations)\n",
    "* Définis des variables xmin,xmax,ymin,ymax qui correspondent à la zone de l’ensemble de Mandel-brot à visualiser."
   ]
  },
  {
   "cell_type": "code",
   "execution_count": null,
   "metadata": {},
   "outputs": [],
   "source": []
  }
 ],
 "metadata": {
  "kernelspec": {
   "display_name": "Python 3",
   "language": "python",
   "name": "python3"
  },
  "language_info": {
   "codemirror_mode": {
    "name": "ipython",
    "version": 3
   },
   "file_extension": ".py",
   "mimetype": "text/x-python",
   "name": "python",
   "nbconvert_exporter": "python",
   "pygments_lexer": "ipython3",
   "version": "3.7.0"
  }
 },
 "nbformat": 4,
 "nbformat_minor": 2
}
